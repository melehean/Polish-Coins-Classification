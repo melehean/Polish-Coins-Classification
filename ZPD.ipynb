{
 "cells": [
  {
   "cell_type": "code",
   "execution_count": null,
   "metadata": {
    "colab": {
     "base_uri": "https://localhost:8080/"
    },
    "id": "qK45Eu8FxHsz",
    "outputId": "90ee5b2c-f35c-487c-da4c-d9e9a541bac8",
    "scrolled": true
   },
   "outputs": [],
   "source": [
    "from google.colab import drive\n",
    "drive.mount('/content/drive')"
   ]
  },
  {
   "cell_type": "code",
   "execution_count": null,
   "metadata": {},
   "outputs": [],
   "source": [
    "# specify our batch size, number of epochs, and learning rate\n",
    "batch_size = 1\n",
    "EPOCHS = 10\n",
    "LR = 1e-3"
   ]
  },
  {
   "cell_type": "code",
   "execution_count": 53,
   "metadata": {
    "id": "N8OnEe_uwsHT"
   },
   "outputs": [],
   "source": [
    "from torchvision.datasets import ImageFolder\n",
    "from torch.utils.data import DataLoader\n",
    "import torchvision.transforms\n",
    "from torch.utils.data import random_split\n",
    "import torch\n",
    "\n",
    "\n",
    "batch_size=1\n",
    "\n",
    "root = 'drive/MyDrive/ZPD_training'\n",
    "\n",
    "transform = torchvision.transforms.Compose([\n",
    "            torchvision.transforms.ToTensor(),\n",
    "            torchvision.transforms.Normalize(mean=(0.485, 0.456, 0.406), std=(0.229, 0.224, 0.225))])\n",
    "\n",
    "dataset = ImageFolder(root, transform=transform)\n",
    "dataset_size = len(dataset)\n",
    "\n",
    "train_size = int(dataset_size * 0.8)\n",
    "validate_size = dataset_size - train_size\n",
    "train_set, val_set = random_split(dataset, [train_size, validate_size], generator=torch.Generator().manual_seed(42))\n",
    "\n",
    "train_loader = DataLoader(train_set, batch_size = batch_size, num_workers = 1, shuffle = True, pin_memory = True)\n",
    "val_loader = DataLoader(val_set, batch_size = batch_size, num_workers = 1, shuffle = True, pin_memory = True)"
   ]
  },
  {
   "cell_type": "code",
   "execution_count": null,
   "metadata": {},
   "outputs": [],
   "source": [
    "model = torch.hub.load('pytorch/vision:v0.10.0', 'resnet18', pretrained=False)\n",
    "# or any of these variants\n",
    "# model = torch.hub.load('pytorch/vision:v0.10.0', 'resnet34', pretrained=True)\n",
    "# model = torch.hub.load('pytorch/vision:v0.10.0', 'resnet50', pretrained=True)\n",
    "# model = torch.hub.load('pytorch/vision:v0.10.0', 'resnet101', pretrained=True)\n",
    "# model = torch.hub.load('pytorch/vision:v0.10.0', 'resnet152', pretrained=True)\n",
    "model.eval()"
   ]
  },
  {
   "cell_type": "code",
   "execution_count": null,
   "metadata": {},
   "outputs": [],
   "source": [
    "# setting device on GPU if available, else CPU\n",
    "device = torch.device('cuda' if torch.cuda.is_available() else 'cpu')\n",
    "print('Using device:', device)\n",
    "print()\n",
    "\n",
    "#Additional Info when using cuda\n",
    "if device.type == 'cuda':\n",
    "    print(torch.cuda.get_device_name(0))\n",
    "    print('Memory Usage:')\n",
    "    print('Allocated:', round(torch.cuda.memory_allocated(0)/1024**3,1), 'GB')\n",
    "    print('Cached:   ', round(torch.cuda.memory_reserved(0)/1024**3,1), 'GB')"
   ]
  },
  {
   "cell_type": "code",
   "execution_count": null,
   "metadata": {},
   "outputs": [],
   "source": [
    "model = model.to(device)\n",
    "\n",
    "\n",
    "loss_function = torch.nn.MSELoss()\n",
    "#loss_function = SSIM()\n",
    "optimizer = torch.optim.Adam(model.parameters(), lr=LR)\n",
    "\n",
    "for epoch in range(0, EPOCHS):\n",
    "    # set the model in training mode\n",
    "    model.train()\n",
    "    # initialize the total training and validation loss\n",
    "    totalTrainLoss = 0\n",
    "    totalValLoss = 0\n",
    "    # loop over the training set\n",
    "    for (x, y) in train_loader:\n",
    "        # send the input to the device\n",
    "        x = x.float()\n",
    "        y = y.float()\n",
    "        (x, y) = (x.to(device), y.to(device))\n",
    "\n",
    "        # perform a forward pass and calculate the training loss\n",
    "        pred = model(x)\n",
    "        loss = loss_function(pred, y)\n",
    "        # zero out the gradients, perform the backpropagation step,\n",
    "        # and update the weights\n",
    "        optimizer.zero_grad()\n",
    "        loss.backward()\n",
    "        optimizer.step()\n",
    "        # add the loss to the total training loss so far and\n",
    "        # calculate the number of correct predictions\n",
    "        totalTrainLoss += loss.item()\n",
    "\n",
    "    with torch.no_grad():\n",
    "        # set the model in evaluation mode\n",
    "        model.eval()\n",
    "        # loop over the validation set\n",
    "        for (x, y) in val_loader:\n",
    "            # send the input to the device\n",
    "            x = x.float()\n",
    "            y = y.float()\n",
    "            (x, y) = (x.to(device), y.to(device))\n",
    "            # make the predictions and calculate the validation loss\n",
    "            pred = model(x)\n",
    "            totalValLoss += loss_function(pred, y)\n",
    "\n",
    "\n",
    "    print(f\"EPOCH: {epoch + 1}/{EPOCHS}\")\n",
    "    print(f\"Training loss for epoch {epoch + 1}: {totalTrainLoss / (len(train_set))}\")\n",
    "    print(f\"Validation Loss for epoch {epoch + 1}: {totalValLoss / (len(val_set))}\")\n",
    "    if totalValLoss / (len(val_set)) < lowest:\n",
    "        lowest = totalValLoss / (len(val_set))\n",
    "        print(f\"\\nNew lowest val loss: {totalValLoss / (len(val_set))}\\n\")\n",
    "        torch.save(model.state_dict(), \"results/Resnet.pth\")\n",
    "    print(\"-------------------------------------------------------------\")"
   ]
  }
 ],
 "metadata": {
  "colab": {
   "collapsed_sections": [],
   "name": "ZPD.ipynb",
   "provenance": []
  },
  "kernelspec": {
   "display_name": "Python 3",
   "language": "python",
   "name": "python3"
  },
  "language_info": {
   "codemirror_mode": {
    "name": "ipython",
    "version": 3
   },
   "file_extension": ".py",
   "mimetype": "text/x-python",
   "name": "python",
   "nbconvert_exporter": "python",
   "pygments_lexer": "ipython3",
   "version": "3.8.2"
  }
 },
 "nbformat": 4,
 "nbformat_minor": 1
}
