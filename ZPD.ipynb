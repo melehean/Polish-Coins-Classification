{
  "nbformat": 4,
  "nbformat_minor": 0,
  "metadata": {
    "colab": {
      "name": "ZPD.ipynb",
      "provenance": [],
      "collapsed_sections": []
    },
    "kernelspec": {
      "name": "python3",
      "display_name": "Python 3"
    },
    "language_info": {
      "name": "python"
    }
  },
  "cells": [
    {
      "cell_type": "code",
      "source": [
        "from google.colab import drive\n",
        "drive.mount('/content/drive')"
      ],
      "metadata": {
        "colab": {
          "base_uri": "https://localhost:8080/"
        },
        "id": "qK45Eu8FxHsz",
        "outputId": "90ee5b2c-f35c-487c-da4c-d9e9a541bac8"
      },
      "execution_count": 2,
      "outputs": [
        {
          "output_type": "stream",
          "name": "stdout",
          "text": [
            "Mounted at /content/drive\n"
          ]
        }
      ]
    },
    {
      "cell_type": "code",
      "source": [
        "from torchvision.datasets import ImageFolder\n",
        "from torch.utils.data import DataLoader\n",
        "import torchvision.transforms\n",
        "from torch.utils.data import random_split\n",
        "import torch\n",
        "\n",
        "\n",
        "batch_size=1\n",
        "\n",
        "root = 'drive/MyDrive/ZPD_training'\n",
        "\n",
        "transform = torchvision.transforms.Compose([\n",
        "            torchvision.transforms.ToTensor(),\n",
        "            torchvision.transforms.Normalize(mean=(0.485, 0.456, 0.406), std=(0.229, 0.224, 0.225))])\n",
        "\n",
        "dataset = ImageFolder(root, transform=transform)\n",
        "dataset_size = len(dataset)\n",
        "\n",
        "train_size = int(dataset_size * 0.8)\n",
        "validate_size = dataset_size - train_size\n",
        "train_set, val_set = random_split(dataset, [train_size, validate_size], generator=torch.Generator().manual_seed(42))\n",
        "\n",
        "train_loader = DataLoader(train_set, batch_size = batch_size, num_workers = 1, shuffle = True, pin_memory = True)\n",
        "val_loader = DataLoader(val_set, batch_size = batch_size, num_workers = 1, shuffle = True, pin_memory = True)"
      ],
      "metadata": {
        "id": "N8OnEe_uwsHT"
      },
      "execution_count": 53,
      "outputs": []
    }
  ]
}