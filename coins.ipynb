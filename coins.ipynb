{
 "cells": [
  {
   "cell_type": "code",
   "execution_count": 15,
   "outputs": [],
   "source": [
    "from utils import *\n",
    "from torchvision import datasets\n",
    "import torchvision.transforms as T\n",
    "from sklearn.model_selection import StratifiedKFold\n",
    "import seaborn as sns\n",
    "import matplotlib.pylab as plt"
   ],
   "metadata": {
    "collapsed": false,
    "pycharm": {
     "name": "#%%\n"
    }
   }
  },
  {
   "cell_type": "code",
   "execution_count": 4,
   "metadata": {
    "pycharm": {
     "name": "#%%\n"
    }
   },
   "outputs": [],
   "source": [
    "seed = 42\n",
    "data_path = 'C:/Studia/ZPD/Projekt/Polish-Coins-Classification/data/'\n",
    "raw_data_path = 'C:/Users/melehean/Desktop/monety_train_test/ZPD dataset/'\n",
    "\n",
    "train_data_path = data_path + 'train'\n",
    "test_data_path = data_path + 'test'\n",
    "difficult_test_data_path = data_path + 'difficult_test'\n",
    "\n",
    "train_data_object = datasets.ImageFolder(train_data_path)\n",
    "test_data_object = datasets.ImageFolder(test_data_path)\n",
    "difficult_test_data_object = datasets.ImageFolder(difficult_test_data_path)"
   ]
  },
  {
   "cell_type": "code",
   "execution_count": 5,
   "metadata": {
    "pycharm": {
     "name": "#%%\n"
    }
   },
   "outputs": [
    {
     "name": "stdout",
     "output_type": "stream",
     "text": [
      "Resolutions:  {(2136, 4624): 529, (2250, 4000): 313, (3024, 3024): 284}\n"
     ]
    }
   ],
   "source": [
    "resolution_dictionary = count_resolution(raw_data_path)\n",
    "print(\"Resolutions: \", resolution_dictionary)"
   ]
  },
  {
   "cell_type": "code",
   "execution_count": 6,
   "outputs": [],
   "source": [
    "datasets_paths_list = [train_data_path, test_data_path, difficult_test_data_path]\n",
    "scale_all_images(datasets_paths_list)"
   ],
   "metadata": {
    "collapsed": false,
    "pycharm": {
     "name": "#%%\n"
    }
   }
  },
  {
   "cell_type": "code",
   "execution_count": 7,
   "metadata": {
    "pycharm": {
     "name": "#%%\n"
    }
   },
   "outputs": [
    {
     "name": "stdout",
     "output_type": "stream",
     "text": [
      "Train classes: {0: 67, 1: 65, 2: 64, 3: 68, 4: 70, 5: 58, 6: 65, 7: 66, 8: 60}\n",
      "Validation classes: {0: 17, 1: 16, 2: 16, 3: 17, 4: 17, 5: 15, 6: 16, 7: 16, 8: 15}\n",
      "Classes to indices: {'10_groszy': 0, '1_grosz': 1, '1_zloty': 2, '20_groszy': 3, '2_grosze': 4, '2_zlote': 5, '50_groszy': 6, '5_groszy': 7, '5_zlotych': 8}\n"
     ]
    }
   ],
   "source": [
    "k_fold_object = StratifiedKFold(n_splits=5, shuffle=True, random_state=seed)\n",
    "\n",
    "train_dictionary, val_dictionary = get_average_train_val_class_split(train_data_object, k_fold_object)\n",
    "\n",
    "print(\"Train classes:\", train_dictionary)\n",
    "print(\"Validation classes:\", val_dictionary)\n",
    "print(\"Classes to indices:\", train_data_object.class_to_idx)"
   ]
  },
  {
   "cell_type": "code",
   "execution_count": 8,
   "metadata": {
    "pycharm": {
     "name": "#%%\n"
    }
   },
   "outputs": [],
   "source": [
    "save_all_average_class_images(train_data_object)"
   ]
  },
  {
   "cell_type": "code",
   "execution_count": 9,
   "metadata": {
    "pycharm": {
     "name": "#%%\n"
    }
   },
   "outputs": [
    {
     "data": {
      "text/plain": "<Figure size 432x288 with 2 Axes>",
      "image/png": "[encoded data removed]"
     },
     "metadata": {
      "needs_background": "light"
     },
     "output_type": "display_data"
    }
   ],
   "source": [
    "class_array = ['10_groszy', '1_grosz', '1_zloty', '20_groszy', '2_grosze', '2_zlote', '50_groszy', '5_groszy', '5_zlotych']\n",
    "\n",
    "mse_matrix = calculate_mse_between_average_images(class_array)\n",
    "ax = sns.heatmap(mse_matrix, linewidth=0.5, xticklabels=class_array, yticklabels=class_array)\n",
    "plt.show()"
   ]
  }
 ],
 "metadata": {
  "kernelspec": {
   "display_name": "Python 3",
   "language": "python",
   "name": "python3"
  },
  "language_info": {
   "codemirror_mode": {
    "name": "ipython",
    "version": 3
   },
   "file_extension": ".py",
   "mimetype": "text/x-python",
   "name": "python",
   "nbconvert_exporter": "python",
   "pygments_lexer": "ipython3",
   "version": "3.7.6"
  }
 },
 "nbformat": 4,
 "nbformat_minor": 1
}